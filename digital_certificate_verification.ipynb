{
 "cells": [
  {
   "cell_type": "code",
   "execution_count": 1,
   "id": "ad082e87",
   "metadata": {},
   "outputs": [],
   "source": [
    "from cryptography.x509 import load_pem_x509_certificate\n",
    "from cryptography.hazmat.backends import default_backend\n",
    "import hashlib\n",
    "from cryptography.hazmat.primitives import hashes\n",
    "from asn1crypto import util\n",
    "import random\n",
    "from OpenSSL import crypto\n",
    "from cryptography.hazmat.backends import default_backend\n",
    "from cryptography.hazmat.primitives.asymmetric import rsa\n",
    "import datetime\n",
    "from cryptography import x509\n",
    "from cryptography.hazmat.backends import default_backend\n",
    "from cryptography.hazmat.primitives import hashes\n",
    "from cryptography.hazmat.primitives.asymmetric import rsa\n",
    "from cryptography.hazmat.primitives import serialization\n",
    "from cryptography.x509.oid import NameOID\n",
    "import uuid\n",
    "from cryptography import *\n",
    "from cryptography.hazmat.primitives.asymmetric.padding import PKCS1v15\n",
    "from cryptography.exceptions import InvalidSignature\n",
    "from cryptography.hazmat.primitives.asymmetric import rsa\n",
    "from cryptography.hazmat.primitives.serialization import load_pem_public_key\n",
    "from cryptography.hazmat.primitives.asymmetric import padding\n",
    "from asn1crypto.x509 import TbsCertificate\n",
    "from functools import partial\n",
    "from subprocess import call\n",
    "\n",
    "import OpenSSL.crypto\n",
    "from cryptography import x509\n",
    "from cryptography.hazmat.primitives import hashes, serialization\n",
    "from cryptography.hazmat.primitives.asymmetric import ec, padding, rsa, ed25519\n",
    "from asn1crypto.x509 import TbsCertificate"
   ]
  },
  {
   "cell_type": "code",
   "execution_count": 2,
   "id": "fb557826",
   "metadata": {},
   "outputs": [],
   "source": [
    "filename='/Users/kundan/Desktop/kundan.pem'\n",
    "with open(filename, 'rb') as f:\n",
    "        pem_data = f.read()\n",
    "cert = load_pem_x509_certificate(pem_data, default_backend())\n",
    "tbs_hash = hashlib.sha256(cert.tbs_certificate_bytes).hexdigest()\n"
   ]
  },
  {
   "cell_type": "code",
   "execution_count": 3,
   "id": "95b041c1",
   "metadata": {},
   "outputs": [
    {
     "data": {
      "text/plain": [
       "'68538fc7818e81d2422a9060636fa5282a43f60dce1bba60c2d7f3abab660097'"
      ]
     },
     "execution_count": 3,
     "metadata": {},
     "output_type": "execute_result"
    }
   ],
   "source": [
    "tbs_hash"
   ]
  },
  {
   "cell_type": "code",
   "execution_count": 4,
   "id": "66ff3b82",
   "metadata": {},
   "outputs": [
    {
     "data": {
      "text/plain": [
       "<Certificate(subject=<Name(C=US,O=DigiCert Inc,OU=www.digicert.com,CN=DigiCert Global Root CA)>, ...)>"
      ]
     },
     "execution_count": 4,
     "metadata": {},
     "output_type": "execute_result"
    }
   ],
   "source": [
    "cert"
   ]
  },
  {
   "cell_type": "code",
   "execution_count": 5,
   "id": "7c16db5f",
   "metadata": {},
   "outputs": [
    {
     "data": {
      "text/plain": [
       "cryptography.hazmat.backends.openssl.x509._Certificate"
      ]
     },
     "execution_count": 5,
     "metadata": {},
     "output_type": "execute_result"
    }
   ],
   "source": [
    "type(cert)\n"
   ]
  },
  {
   "cell_type": "code",
   "execution_count": 6,
   "id": "5bc9ee9d",
   "metadata": {},
   "outputs": [
    {
     "data": {
      "text/plain": [
       "'0x83be056904246b1a1756ac95991c74a'"
      ]
     },
     "execution_count": 6,
     "metadata": {},
     "output_type": "execute_result"
    }
   ],
   "source": [
    "hex(cert.serial_number)"
   ]
  },
  {
   "cell_type": "code",
   "execution_count": 7,
   "id": "7b8b88b8",
   "metadata": {},
   "outputs": [
    {
     "data": {
      "text/plain": [
       "b'CH\\xa0\\xe9DLx\\xcb&^\\x05\\x8d^\\x89D\\xb4\\xd8O\\x96b\\xbd&\\xdb%\\x7f\\x894\\xa4C\\xc7\\x01a'"
      ]
     },
     "execution_count": 7,
     "metadata": {},
     "output_type": "execute_result"
    }
   ],
   "source": [
    "t=cert.fingerprint(hashes.SHA256())\n",
    "t"
   ]
  },
  {
   "cell_type": "code",
   "execution_count": 8,
   "id": "df5c69fe",
   "metadata": {},
   "outputs": [
    {
     "data": {
      "text/plain": [
       "'4348a0e9444c78cb265e058d5e8944b4d84f9662bd26db257f8934a443c70161'"
      ]
     },
     "execution_count": 8,
     "metadata": {},
     "output_type": "execute_result"
    }
   ],
   "source": [
    "t.hex()\n"
   ]
  },
  {
   "cell_type": "code",
   "execution_count": 9,
   "id": "2a81f259",
   "metadata": {},
   "outputs": [
    {
     "data": {
      "text/plain": [
       "<bound method _Certificate.fingerprint of <Certificate(subject=<Name(C=US,O=DigiCert Inc,OU=www.digicert.com,CN=DigiCert Global Root CA)>, ...)>>"
      ]
     },
     "execution_count": 9,
     "metadata": {},
     "output_type": "execute_result"
    }
   ],
   "source": [
    "cert.fingerprint"
   ]
  },
  {
   "cell_type": "code",
   "execution_count": 10,
   "id": "88fbd727",
   "metadata": {},
   "outputs": [
    {
     "data": {
      "text/plain": [
       "<cryptography.hazmat.backends.openssl.rsa._RSAPublicKey at 0x7f8470b8dac0>"
      ]
     },
     "execution_count": 10,
     "metadata": {},
     "output_type": "execute_result"
    }
   ],
   "source": [
    "public_key = cert.public_key()\n",
    "public_key"
   ]
  },
  {
   "cell_type": "code",
   "execution_count": 11,
   "id": "84361e66",
   "metadata": {},
   "outputs": [],
   "source": [
    "k='E2 3B E1 11 72 DE A8 A4 D3 A3 57 AA 50 A2 8F 0B77 90 C9 A2 A5 EE 12 CE 96 5B 01 09 20 CC 01 93A7 4E 30 B7 53 F7 43 C4 69 00 57 9D E2 8D 22 DD87 06 40 00 81 09 CE CE 1B 83 BF DF CD 3B 71 46E2 D6 66 C7 05 B3 76 27 16 8F 7B 9E 1E 95 7D EEB7 48 A3 08 DA D6 AF 7A 0C 39 06 65 7F 4A 5D 1FBC 17 F8 AB BE EE 28 D7 74 7F 7A 78 99 59 85 686E 5C 23 32 4B BF 4E C0 E8 5A 6D E3 70 BF 77 10BF FC 01 F6 85 D9 A8 44 10 58 32 A9 75 18 D5 D1A2 BE 47 E2 27 6A F4 9A 33 F8 49 08 60 8B D4 5FB4 3A 84 BF A1 AA 4A 4C 7D 3E CF 4F 5F 6C 76 5EA0 4B 37 91 9E DC 22 E6 6D CE 14 1A 8E 6A CB FECD B3 14 64 17 C7 5B 29 9E 32 BF F2 EE FA D3 0B42 D4 AB B7 41 32 DA 0C D4 EF F8 81 D5 BB 8D 583F B5 1B E8 49 28 A2 70 DA 31 04 DD F7 B2 16 F24C 0A 4E 07 A8 ED 4A 3D 5E B5 7F A3 90 C3 AF 27'"
   ]
  },
  {
   "cell_type": "code",
   "execution_count": 12,
   "id": "b74a7b5e",
   "metadata": {},
   "outputs": [
    {
     "data": {
      "text/plain": [
       "'e23be11172dea8a4d3a357aa50a28f0b7790c9a2a5ee12ce965b010920cc0193a74e30b753f743c46900579de28d22dd870640008109cece1b83bfdfcd3b7146e2d666c705b37627168f7b9e1e957deeb748a308dad6af7a0c3906657f4a5d1fbc17f8abbeee28d7747f7a78995985686e5c23324bbf4ec0e85a6de370bf7710bffc01f685d9a844105832a97518d5d1a2be47e2276af49a33f84908608bd45fb43a84bfa1aa4a4c7d3ecf4f5f6c765ea04b37919edc22e66dce141a8e6acbfecdb3146417c75b299e32bff2eefad30b42d4abb74132da0cd4eff881d5bb8d583fb51be84928a270da3104ddf7b216f24c0a4e07a8ed4a3d5eb57fa390c3af27'"
      ]
     },
     "execution_count": 12,
     "metadata": {},
     "output_type": "execute_result"
    }
   ],
   "source": [
    "r=bytes.fromhex(k)\n",
    "k=r.hex()\n",
    "k"
   ]
  },
  {
   "cell_type": "code",
   "execution_count": 13,
   "id": "e1279791",
   "metadata": {},
   "outputs": [],
   "source": [
    "from cryptography.hazmat.backends import default_backend\n",
    "from cryptography.hazmat.primitives.asymmetric import rsa\n",
    "\n",
    "def deserialize_custom_rsa_public_key(key_bytes):\n",
    "    # Assuming key_bytes is in the custom binary format\n",
    "\n",
    "    # Parse the key data from the binary format\n",
    "    modulus_length = int.from_bytes(key_bytes[:4], byteorder='big')\n",
    "    modulus = int.from_bytes(key_bytes[4:4+modulus_length], byteorder='big')\n",
    "    exponent_length = int.from_bytes(key_bytes[4+modulus_length:4+modulus_length+4], byteorder='big')\n",
    "    exponent = int.from_bytes(key_bytes[4+modulus_length+4:], byteorder='big')\n",
    "\n",
    "    # Construct an RSA public key object\n",
    "    rsa_public_key = rsa.RSAPublicNumbers(e=65537, n=2**2048).public_key(default_backend())\n",
    "\n",
    "    return rsa_public_key\n",
    "r=deserialize_custom_rsa_public_key(r)"
   ]
  },
  {
   "cell_type": "code",
   "execution_count": 19,
   "id": "db604b20",
   "metadata": {},
   "outputs": [
    {
     "name": "stdout",
     "output_type": "stream",
     "text": [
      "None\n"
     ]
    }
   ],
   "source": [
    "s=cert.signature\n",
    "t=cert.tbs_certificate_bytes\n",
    "padding = PKCS1v15()\n",
    "hashAlgorithm = hashes.SHA1()\n",
    "print(public_key.verify(s,t, padding, hashAlgorithm))"
   ]
  },
  {
   "cell_type": "code",
   "execution_count": 15,
   "id": "d6889723",
   "metadata": {},
   "outputs": [
    {
     "name": "stdout",
     "output_type": "stream",
     "text": [
      "True\n"
     ]
    }
   ],
   "source": [
    "try:\n",
    "    public_key.verify(\n",
    "            s,\n",
    "            t,\n",
    "            padding,\n",
    "            hashes.SHA1()\n",
    "        )\n",
    "    print(True)\n",
    "except:\n",
    "    print(False)\n"
   ]
  },
  {
   "cell_type": "code",
   "execution_count": 16,
   "id": "0691f19b",
   "metadata": {},
   "outputs": [
    {
     "name": "stdout",
     "output_type": "stream",
     "text": [
      "it is an rsa key\n"
     ]
    }
   ],
   "source": [
    "from cryptography.hazmat.primitives.asymmetric.rsa import RSAPublicKey\n",
    "if not isinstance(r, RSAPublicKey):\n",
    "        raise Exception('Key is not an RSA public key')\n",
    "else:\n",
    "    print(\"it is an rsa key\")"
   ]
  },
  {
   "cell_type": "code",
   "execution_count": 20,
   "id": "8de111fc",
   "metadata": {},
   "outputs": [
    {
     "name": "stdout",
     "output_type": "stream",
     "text": [
      "None\n"
     ]
    }
   ],
   "source": [
    "public_key"
   ]
  },
  {
   "cell_type": "code",
   "execution_count": 17,
   "id": "34ece13e",
   "metadata": {},
   "outputs": [
    {
     "data": {
      "text/plain": [
       "<asn1crypto.keys.PublicKeyAlgorithm 140206803644576 b'0\\r\\x06\\t*\\x86H\\x86\\xf7\\r\\x01\\x01\\x01\\x05\\x00'>"
      ]
     },
     "execution_count": 17,
     "metadata": {},
     "output_type": "execute_result"
    }
   ],
   "source": [
    "TbsCertificate.load(t)[\"subject_public_key_info\"][\"algorithm\"]"
   ]
  },
  {
   "cell_type": "code",
   "execution_count": null,
   "id": "26f81310",
   "metadata": {},
   "outputs": [],
   "source": [
    "alg = TbsCertificate.load(t)[\"subject_public_key_info\"]"
   ]
  },
  {
   "cell_type": "code",
   "execution_count": null,
   "id": "fbfeae8e",
   "metadata": {},
   "outputs": [],
   "source": [
    "alg"
   ]
  },
  {
   "cell_type": "code",
   "execution_count": null,
   "id": "a67e176a",
   "metadata": {},
   "outputs": [],
   "source": [
    "s=b'0\\x82\\x01\"0\\r\\x06\\t*\\x86H\\x86\\xf7\\r\\x01\\x01\\x01\\x05\\x00\\x03\\x82\\x01\\x0f\\x000\\x82\\x01\\n\\x02\\x82\\x01\\x01\\x00\\xe2;\\xe1\\x11r\\xde\\xa8\\xa4\\xd3\\xa3W\\xaaP\\xa2\\x8f\\x0bw\\x90\\xc9\\xa2\\xa5\\xee\\x12\\xce\\x96[\\x01\\t \\xcc\\x01\\x93\\xa7N0\\xb7S\\xf7C\\xc4i\\x00W\\x9d\\xe2\\x8d\"\\xdd\\x87\\x06@\\x00\\x81\\t\\xce\\xce\\x1b\\x83\\xbf\\xdf\\xcd;qF\\xe2\\xd6f\\xc7\\x05\\xb3v\\'\\x16\\x8f{\\x9e\\x1e\\x95}\\xee\\xb7H\\xa3\\x08\\xda\\xd6\\xafz\\x0c9\\x06e\\x7fJ]\\x1f\\xbc\\x17\\xf8\\xab\\xbe\\xee(\\xd7t\\x7fzx\\x99Y\\x85hn\\\\#2K\\xbfN\\xc0\\xe8Zm\\xe3p\\xbfw\\x10\\xbf\\xfc\\x01\\xf6\\x85\\xd9\\xa8D\\x10X2\\xa9u\\x18\\xd5\\xd1\\xa2\\xbeG\\xe2\\'j\\xf4\\x9a3\\xf8I\\x08`\\x8b\\xd4_\\xb4:\\x84\\xbf\\xa1\\xaaJL}>\\xcfO_lv^\\xa0K7\\x91\\x9e\\xdc\"\\xe6m\\xce\\x14\\x1a\\x8ej\\xcb\\xfe\\xcd\\xb3\\x14d\\x17\\xc7[)\\x9e2\\xbf\\xf2\\xee\\xfa\\xd3\\x0bB\\xd4\\xab\\xb7A2\\xda\\x0c\\xd4\\xef\\xf8\\x81\\xd5\\xbb\\x8dX?\\xb5\\x1b\\xe8I(\\xa2p\\xda1\\x04\\xdd\\xf7\\xb2\\x16\\xf2L\\nN\\x07\\xa8\\xedJ=^\\xb5\\x7f\\xa3\\x90\\xc3\\xaf\\'\\x02\\x03\\x01\\x00\\x01'\n",
    "s.hex()"
   ]
  }
 ],
 "metadata": {
  "kernelspec": {
   "display_name": "Python 3 (ipykernel)",
   "language": "python",
   "name": "python3"
  },
  "language_info": {
   "codemirror_mode": {
    "name": "ipython",
    "version": 3
   },
   "file_extension": ".py",
   "mimetype": "text/x-python",
   "name": "python",
   "nbconvert_exporter": "python",
   "pygments_lexer": "ipython3",
   "version": "3.9.12"
  }
 },
 "nbformat": 4,
 "nbformat_minor": 5
}
